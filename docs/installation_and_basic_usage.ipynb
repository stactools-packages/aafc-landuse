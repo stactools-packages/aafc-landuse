{
 "cells": [
  {
   "cell_type": "markdown",
   "id": "229d7d26",
   "metadata": {},
   "source": [
    "# Tutorial: Working with this stactools subpackage\n",
    "\n",
    "Stactools ([docs](https://stactools.readthedocs.io/en/latest/), [source](https://github.com/stac-utils/stactools)) is a command line tool and library for working with [STAC](https://stacspec.org/), based on [PySTAC](https://github.com/stac-utils/pystac).\n",
    "\n",
    "[Stactools dataset packages](https://github.com/stactools-packages) are add-ons for stactools that provide STAC functionality for specific datasets, such as [Sentinel 2](https://github.com/stactools-packages/sentinel2) and [Landsat](https://github.com/stactools-packages/landsat).\n",
    "\n",
    "Stactools and its dataset packages can be accessed from the CLI or from within normal Python code. This notebook provides examples of both.\n",
    "\n",
    "More information about the AAFC Landcover dataset can be found [here](https://open.canada.ca/data/en/dataset/18e3ef1a-497c-40c6-8326-aac1a34a0dec)."
   ]
  },
  {
   "cell_type": "markdown",
   "id": "7ee9a759",
   "metadata": {},
   "source": [
    "## 1. Using this notebook\n",
    "\n",
    "The easiest way to use this notebook is to run it through `scripts/notebook`. This will create a Docker container Ready to run this notebook, which can be found in `docs/`.\n",
    "\n",
    "If you wish to use this notebook outside of the container (such as on [mybinder.org](mybinder.org)) then please install the prerequisites using:"
   ]
  },
  {
   "cell_type": "code",
   "execution_count": null,
   "id": "9f325a49",
   "metadata": {},
   "outputs": [],
   "source": [
    "!pip install stactools-aafc-landuse"
   ]
  },
  {
   "cell_type": "markdown",
   "id": "824a84cc",
   "metadata": {},
   "source": [
    "## 2. From the CLI"
   ]
  },
  {
   "cell_type": "markdown",
   "id": "12123e24",
   "metadata": {},
   "source": [
    "The first thing we can do is check that the `stac` and `stac-aafc-landuse` CLI tools are installed and explore the options. Notice the inclusion of the `aafclanduse` command for `stac`:"
   ]
  },
  {
   "cell_type": "code",
   "execution_count": 1,
   "id": "f9cb7ef6",
   "metadata": {},
   "outputs": [
    {
     "name": "stdout",
     "output_type": "stream",
     "text": [
      "Usage: stac [OPTIONS] COMMAND [ARGS]...\r\n",
      "\r\n",
      "Options:\r\n",
      "  -v, --verbose  Use verbose mode\r\n",
      "  -q, --quiet    Use quiet mode (no output)\r\n",
      "  --help         Show this message and exit.\r\n",
      "\r\n",
      "Commands:\r\n",
      "  aafclanduse  Commands for working with AAFC Land Use data\r\n",
      "  copy         Copy a STAC Catalog\r\n",
      "  describe     Prints out a list of all catalogs, collections and items in\r\n",
      "               this STAC.\r\n",
      "\r\n",
      "  info         Display info about a static STAC catalog.\r\n",
      "  layout       Reformat the layout of a STAC based on templating.\r\n",
      "  merge        Merge items from one STAC into another.\r\n",
      "  move-assets  Move or copy assets in a STAC to the Item locations.\r\n",
      "  validate     Validate a stac object.\r\n",
      "  version      Display version info.\r\n"
     ]
    }
   ],
   "source": [
    "!stac"
   ]
  },
  {
   "cell_type": "markdown",
   "id": "79cec5ed",
   "metadata": {},
   "source": [
    "You can now explore the STAC dataset package commands to ingest and describe the data"
   ]
  },
  {
   "cell_type": "code",
   "execution_count": 2,
   "id": "84751b9a",
   "metadata": {},
   "outputs": [
    {
     "name": "stdout",
     "output_type": "stream",
     "text": [
      "Usage: stac aafclanduse [OPTIONS] COMMAND [ARGS]...\r\n",
      "\r\n",
      "Options:\r\n",
      "  --help  Show this message and exit.\r\n",
      "\r\n",
      "Commands:\r\n",
      "  create-collection  Creates a STAC collection from AAFC Land Use metadata\r\n",
      "  create-item        Create a STAC item from an AAFC Land Use tif\r\n"
     ]
    }
   ],
   "source": [
    "!stac aafclanduse --help"
   ]
  },
  {
   "cell_type": "markdown",
   "id": "f9132b08",
   "metadata": {},
   "source": [
    "And more specific help with an individual command."
   ]
  },
  {
   "cell_type": "code",
   "execution_count": 10,
   "id": "dea95769",
   "metadata": {},
   "outputs": [
    {
     "name": "stdout",
     "output_type": "stream",
     "text": [
      "Usage: stac aafclanduse create-collection [OPTIONS]\r\n",
      "\r\n",
      "  Creates a STAC Collection from AAFC Land Use metadata\r\n",
      "\r\n",
      "  Args:     destination (str): Directory to create the collection json\r\n",
      "  metadata (str): Path to a jsonld metadata file - provided by AAFC Returns:\r\n",
      "  Callable\r\n",
      "\r\n",
      "Options:\r\n",
      "  -d, --destination TEXT  The output directory for the STAC Collection json\r\n",
      "                          [required]\r\n",
      "\r\n",
      "  -m, --metadata TEXT     The url to the metadata jsonld\r\n",
      "  --help                  Show this message and exit.\r\n"
     ]
    }
   ],
   "source": [
    "!stac aafclanduse create-collection --help"
   ]
  },
  {
   "cell_type": "code",
   "execution_count": 11,
   "id": "c53aeaa5",
   "metadata": {},
   "outputs": [
    {
     "name": "stdout",
     "output_type": "stream",
     "text": [
      "Usage: stac aafclanduse create-item [OPTIONS]\r\n",
      "\r\n",
      "  Creates a STAC Item from an AAFC Land Use raster and accompanying metadata\r\n",
      "  file.\r\n",
      "\r\n",
      "  Args:     source (str): Path to an AAFC Land Use tif     destination\r\n",
      "  (str): Directory where a COG and STAC item json will be created\r\n",
      "  metadata (str): Path to a jsonld metadata file - provided by AAFC Returns:\r\n",
      "  Callable\r\n",
      "\r\n",
      "Options:\r\n",
      "  -s, --source TEXT       Path to an AAFC Land Use tif  [required]\r\n",
      "  -d, --destination TEXT  The output directory for the STAC json and COG\r\n",
      "                          [required]\r\n",
      "\r\n",
      "  -m, --metadata TEXT     The url to the metadata description.\r\n",
      "  --help                  Show this message and exit.\r\n"
     ]
    }
   ],
   "source": [
    "!stac aafclanduse create-item --help"
   ]
  },
  {
   "cell_type": "markdown",
   "id": "4b7c15e1",
   "metadata": {},
   "source": [
    "The metadata necessary to create the root STAC collection is contained within the dataset package, so only an output directory is required:"
   ]
  },
  {
   "cell_type": "code",
   "execution_count": 9,
   "id": "9bf3dd11",
   "metadata": {},
   "outputs": [
    {
     "name": "stdout",
     "output_type": "stream",
     "text": [
      "{\r\n",
      "  \"type\": \"Collection\",\r\n",
      "  \"id\": \"aafc-landuse\",\r\n",
      "  \"stac_version\": \"1.0.0\",\r\n",
      "  \"description\": \"The 1990, 2000 and 2010 Land Use (LU) maps cover all areas of Canada south of 60 degrees N at a spatial resolution of 30 metres. The LU classes follow the protocol of the Intergovernmental Panel on Climate Change (IPCC) and consist of: Forest, Water, Cropland, Grassland, Settlement and Otherland.\",\r\n",
      "  \"links\": [\r\n",
      "    {\r\n",
      "      \"rel\": \"root\",\r\n",
      "      \"href\": \"./aafc-landuse.json\",\r\n",
      "      \"type\": \"application/json\"\r\n"
     ]
    }
   ],
   "source": [
    "!stac aafclanduse create-collection -d \".\"\n",
    "!head ./aafc-landuse.json"
   ]
  },
  {
   "cell_type": "markdown",
   "id": "36e9e858",
   "metadata": {},
   "source": [
    "Creating a STAC item also requires the path to the corresponding zipped image path. This command will download, unzip and convert the `.tif` file to a cloud optimized geotiff (COG), then include a link to the COG in the item as an asset. You can explore the zipped images through the FTP [here](https://www.agr.gc.ca/atlas/data_donnees/lcv/aafcLand_Use/tif/)."
   ]
  },
  {
   "cell_type": "code",
   "execution_count": 13,
   "id": "c21ea3f7",
   "metadata": {},
   "outputs": [
    {
     "name": "stdout",
     "output_type": "stream",
     "text": [
      "output: b'Input file size is 15252, 44639\\n0...10...20...30...40...50...60...70...80...90...100 - done.\\n'\n",
      "aafc-landuse.json\t\t   IMG_AAFC_LANDUSE_Z07_2010_cog.tif.aux.xml\n",
      "conf.py\t\t\t\t   IMG_AAFC_LANDUSE_Z07_2010.json\n",
      "IMG_AAFC_LANDUSE_Z07_2010_cog.tif  installation_and_basic_usage.ipynb\n",
      "{\n",
      "  \"type\": \"Feature\",\n",
      "  \"stac_version\": \"1.0.0\",\n",
      "  \"id\": \"IMG_AAFC_LANDUSE_Z07_2010\",\n",
      "  \"properties\": {\n",
      "    \"title\": \"IMG_AAFC_LANDUSE_Z07_2010\",\n",
      "    \"description\": \"The 1990, 2000 and 2010 Land Use (LU) maps cover all areas of Canada south of 600N at a spatial resolution of 30 metres. The LU classes follow the protocol of the Intergovernmental Panel on Climate Change (IPCC) and consist of: Forest, Water, Cropland, Grassland, Settlement and Otherland.   \\n  \\n  The 1990, 2000 and 2010 Land Use (LU) maps were developed in response to a need for explicit, high-accuracy, high-resolution land use data to meet AAFC\\u2019s commitments in international reporting, especially for the annual National Inventory Report (NIR) to the United Nations Framework Convention on Climate Change (UNFCCC), the Agri-Environmental program of the Organization for Economic Co-operation and Development (OECD) and the FAOSTAT component of the Food and Agriculture Organization of the United Nations (FAO).\",\n",
      "    \"start_datetime\": \"2010-01-01T00:00:00Z\",\n",
      "    \"end_datetime\": \"2011-01-01T00:00:00Z\",\n",
      "    \"datetime\": \"2010-01-01T00:00:00Z\"\n"
     ]
    }
   ],
   "source": [
    "# Create a STAC Item and COG - this can be done using remote or local .tif or .zip assets\n",
    "!stac aafclanduse create-item -s \"https://www.agr.gc.ca/atlas/data_donnees/lcv/aafcLand_Use/tif/2010/IMG_AAFC_LANDUSE_Z07_2010.zip\" -d \".\"\n",
    "!ls\n",
    "!head IMG_AAFC_LANDUSE_Z07_2010.json"
   ]
  },
  {
   "cell_type": "markdown",
   "id": "076eb507",
   "metadata": {},
   "source": [
    "## 3. As a Python module"
   ]
  },
  {
   "cell_type": "markdown",
   "id": "d9f0b42d",
   "metadata": {},
   "source": [
    "So far we've used IPython [line magic](https://ipython.readthedocs.io/en/stable/interactive/magics.html) to work with stactools packages on the command line from this notebook, but it's also possible to use them within Python scripts."
   ]
  },
  {
   "cell_type": "code",
   "execution_count": 22,
   "id": "7d774f2e",
   "metadata": {},
   "outputs": [],
   "source": [
    "from stactools.aafc_landuse.constants import JSONLD_HREF\n",
    "from stactools.aafc_landuse import utils, cog, stac\n",
    "import os"
   ]
  },
  {
   "cell_type": "markdown",
   "id": "eb2d41ca",
   "metadata": {},
   "source": [
    "Like above it's possible to create a collection from the metadata within the dataset package:"
   ]
  },
  {
   "cell_type": "code",
   "execution_count": 23,
   "id": "1c7f023f",
   "metadata": {},
   "outputs": [
    {
     "data": {
      "text/plain": [
       "{'type': 'Collection',\n",
       " 'id': 'aafc-landuse',\n",
       " 'stac_version': '1.0.0',\n",
       " 'description': 'The 1990, 2000 and 2010 Land Use (LU) maps cover all areas of Canada south of 60 degrees N at a spatial resolution of 30 metres. The LU classes follow the protocol of the Intergovernmental Panel on Climate Change (IPCC) and consist of: Forest, Water, Cropland, Grassland, Settlement and Otherland.',\n",
       " 'links': [{'rel': <RelType.ROOT: 'root'>,\n",
       "   'href': './aafc-landuse.json',\n",
       "   'type': <MediaType.JSON: 'application/json'>},\n",
       "  {'rel': 'license',\n",
       "   'href': 'https://open.canada.ca/en/open-government-licence-canada',\n",
       "   'title': 'Open Government Licence - Canada'},\n",
       "  {'rel': <RelType.SELF: 'self'>,\n",
       "   'href': '/home/jvrt/gdspark/202105_stactools/aafc-landuse/docs/aafc-landuse.json',\n",
       "   'type': <MediaType.JSON: 'application/json'>}],\n",
       " 'stac_extensions': [],\n",
       " 'title': 'Land Use 1990, 2000 & 2010',\n",
       " 'extent': {'spatial': {'bbox': [[-132.0, 36.0, -60.0, 60.0]]},\n",
       "  'temporal': {'interval': [['1990-01-01T00:00:00Z',\n",
       "     '2000-01-01T00:00:00Z']]}},\n",
       " 'license': 'OGL-Canada-2.0',\n",
       " 'providers': [{'name': 'Natural Resources Canada | Ressources naturelles Canada',\n",
       "   'roles': ['producer', 'processor', 'host'],\n",
       "   'url': 'https://open.canada.ca/data/en/dataset/18e3ef1a-497c-40c6-8326-aac1a34a0dec'}]}"
      ]
     },
     "execution_count": 23,
     "metadata": {},
     "output_type": "execute_result"
    }
   ],
   "source": [
    "metadata = utils.get_metadata(JSONLD_HREF)\n",
    "destination = \".\"\n",
    "fname = \"aafc-landuse.json\"\n",
    "collection = stac.create_collection(metadata, os.path.join(destination, fname))\n",
    "collection.to_dict()"
   ]
  },
  {
   "cell_type": "markdown",
   "id": "f6cb097a",
   "metadata": {},
   "source": [
    "And similarly to create an item:"
   ]
  },
  {
   "cell_type": "code",
   "execution_count": 25,
   "id": "5a7e9acf",
   "metadata": {},
   "outputs": [
    {
     "data": {
      "text/plain": [
       "{'type': 'Feature',\n",
       " 'stac_version': '1.0.0',\n",
       " 'id': 'IMG_AAFC_LANDUSE_Z07_2010',\n",
       " 'properties': {'title': 'IMG_AAFC_LANDUSE_Z07_2010',\n",
       "  'description': 'The 1990, 2000 and 2010 Land Use (LU) maps cover all areas of Canada south of 600N at a spatial resolution of 30 metres. The LU classes follow the protocol of the Intergovernmental Panel on Climate Change (IPCC) and consist of: Forest, Water, Cropland, Grassland, Settlement and Otherland.   \\n  \\n  The 1990, 2000 and 2010 Land Use (LU) maps were developed in response to a need for explicit, high-accuracy, high-resolution land use data to meet AAFC’s commitments in international reporting, especially for the annual National Inventory Report (NIR) to the United Nations Framework Convention on Climate Change (UNFCCC), the Agri-Environmental program of the Organization for Economic Co-operation and Development (OECD) and the FAOSTAT component of the Food and Agriculture Organization of the United Nations (FAO).',\n",
       "  'start_datetime': '2010-01-01T00:00:00Z',\n",
       "  'end_datetime': '2011-01-01T00:00:00Z',\n",
       "  'datetime': '2010-01-01T00:00:00Z'},\n",
       " 'geometry': {'type': 'Polygon',\n",
       "  'coordinates': [[[-136.9001494518887, 47.95769534463809],\n",
       "    [-136.9001494518887, 60.035045641085034],\n",
       "    [-145.09984458560297, 60.035045641085034],\n",
       "    [-145.09984458560297, 47.95769534463809],\n",
       "    [-136.9001494518887, 47.95769534463809]]]},\n",
       " 'links': [{'rel': <RelType.SELF: 'self'>,\n",
       "   'href': '/home/jvrt/gdspark/202105_stactools/aafc-landuse/docs/IMG_AAFC_LANDUSE_Z07_2010.json',\n",
       "   'type': <MediaType.JSON: 'application/json'>}],\n",
       " 'assets': {'json': {'href': './IMG_AAFC_LANDUSE_Z07_2010_cog.tif',\n",
       "   'type': <MediaType.JSON: 'application/json'>,\n",
       "   'title': 'JSON metadata',\n",
       "   'roles': ['metadata']},\n",
       "  'cog': {'href': './IMG_AAFC_LANDUSE_Z07_2010_cog.tif',\n",
       "   'type': <MediaType.COG: 'image/tiff; application=geotiff; profile=cloud-optimized'>,\n",
       "   'title': 'IMG_AAFC_LANDUSE_Z07_2010',\n",
       "   'roles': ['data']}},\n",
       " 'bbox': [-145.09984458560297,\n",
       "  47.95769534463809,\n",
       "  -136.9001494518887,\n",
       "  60.035045641085034],\n",
       " 'stac_extensions': []}"
      ]
     },
     "execution_count": 25,
     "metadata": {},
     "output_type": "execute_result"
    }
   ],
   "source": [
    "source = \"https://www.agr.gc.ca/atlas/data_donnees/lcv/aafcLand_Use/tif/2010/IMG_AAFC_LANDUSE_Z07_2010.zip\"\n",
    "destination = \".\"\n",
    "\n",
    "# Access/download src tif and create a COG\n",
    "with utils.AssetManager(source) as asset:\n",
    "    asset_tif = asset.path\n",
    "    cog_path = os.path.join(\n",
    "        destination,\n",
    "        os.path.splitext(os.path.basename(asset_tif))[0] + \"_cog.tif\",\n",
    "    )\n",
    "    cog.create_cog(asset_tif, cog_path, dry_run=False)\n",
    "\n",
    "# Create stac item\n",
    "json_path = cog_path[:-8] + \".json\"\n",
    "item = stac.create_item(metadata, json_path, cog_path)\n",
    "item.to_dict()"
   ]
  },
  {
   "cell_type": "code",
   "execution_count": null,
   "id": "bab57d01",
   "metadata": {},
   "outputs": [],
   "source": []
  }
 ],
 "metadata": {
  "interpreter": {
   "hash": "c2bee1ab741e827a7e677add16aa73fb04c1c623305731aa61866545d78e2921"
  },
  "kernelspec": {
   "display_name": "Python 3 (ipykernel)",
   "language": "python",
   "name": "python3"
  },
  "language_info": {
   "codemirror_mode": {
    "name": "ipython",
    "version": 3
   },
   "file_extension": ".py",
   "mimetype": "text/x-python",
   "name": "python",
   "nbconvert_exporter": "python",
   "pygments_lexer": "ipython3",
   "version": "3.9.6"
  }
 },
 "nbformat": 4,
 "nbformat_minor": 5
}
